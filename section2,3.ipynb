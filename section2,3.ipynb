{
  "nbformat": 4,
  "nbformat_minor": 0,
  "metadata": {
    "colab": {
      "provenance": []
    },
    "kernelspec": {
      "name": "python3",
      "display_name": "Python 3"
    },
    "language_info": {
      "name": "python"
    }
  },
  "cells": [
    {
      "cell_type": "code",
      "execution_count": null,
      "metadata": {
        "id": "5MxUinCQ4wzG"
      },
      "outputs": [],
      "source": [
        "# 1) Write a program that checks if a number is negative, and prints \"The number is negative\" if it is.\n",
        "\n",
        "# 2) Write a program that checks if a number is odd, and prints \"The number is odd\" if it is.\n",
        "\n",
        "# 3) Determining price categories based on age for a theme park\n",
        "# if age under 5, price 0,\n",
        "# age between 6 and 12  -> price 10\n",
        "# age between 13 and 65 -> price 20\n",
        "# age above 65 -> price 15\n",
        "\n",
        "# 4) Classifying a student's grade A, B, C, D, F\n",
        "\n",
        "# 5) check password\n",
        "# username = \"admin\"\n",
        "# password = \"123456\"\n",
        "\n",
        "# 6) dicount coupon\n",
        "# Discounts on a product based on a coupon code:DISCOUNT10 -> price - 10"
      ]
    },
    {
      "cell_type": "code",
      "source": [
        "num = int(input(\"number\"))\n",
        "if num < 0 :\n",
        "  print(\"-ve\")\n",
        "else:\n",
        "  print(\"+ve\")"
      ],
      "metadata": {
        "colab": {
          "base_uri": "https://localhost:8080/"
        },
        "id": "Mwj_hw4H4ylt",
        "outputId": "85e1df1b-9b88-448b-81c7-ee8ff21ef5fa"
      },
      "execution_count": null,
      "outputs": [
        {
          "output_type": "stream",
          "name": "stdout",
          "text": [
            "number-3\n",
            "-ve\n"
          ]
        }
      ]
    },
    {
      "cell_type": "code",
      "source": [
        "age = float(input(\"age\"))\n",
        "if age <= 5:\n",
        "  print(\"0\")\n",
        "elif 6<=age<=12:\n",
        "  print(\"10\")\n",
        "elif 13<=age<=65:\n",
        "  print(\"20\")\n",
        "else :\n",
        "  print(\"15\")"
      ],
      "metadata": {
        "colab": {
          "base_uri": "https://localhost:8080/"
        },
        "id": "zWWKv4tB49Fa",
        "outputId": "09fb19ab-2264-45f9-a5a1-dce78a173390"
      },
      "execution_count": null,
      "outputs": [
        {
          "output_type": "stream",
          "name": "stdout",
          "text": [
            "age66\n",
            "15\n"
          ]
        }
      ]
    },
    {
      "cell_type": "code",
      "source": [
        "from ast import And\n",
        "# 5) check password\n",
        "# username = \"admin\"\n",
        "# password = \"123456\"\n",
        "username = input()\n",
        "password = input()\n",
        "if username ==\"admin\"  and password == \"123456\":\n",
        "  print(\"welcome\")\n",
        "else:\n",
        "  print(\"false\")\n"
      ],
      "metadata": {
        "colab": {
          "base_uri": "https://localhost:8080/"
        },
        "id": "KNIF1vfm7yVW",
        "outputId": "90ebf1b0-a845-4699-f3cf-5f884dc290a4"
      },
      "execution_count": null,
      "outputs": [
        {
          "output_type": "stream",
          "name": "stdout",
          "text": [
            "admin\n",
            "123456\n",
            "welcome\n"
          ]
        }
      ]
    },
    {
      "cell_type": "code",
      "source": [
        "# 6) dicount coupon\n",
        "# Discounts on a product based on a coupon code:DISCOUNT10 -> price - 10\n",
        "reel_price= float(input(\"reel price : \"))\n",
        "coupon_code = input(\"coupon code\")\n",
        "if (coupon_code ==\"DISCOUNT10\"):\n",
        "  print  (reel_price - 10.0)\n",
        "else:\n",
        " print(\"no discount : \" + print( + reel_price))\n"
      ],
      "metadata": {
        "colab": {
          "base_uri": "https://localhost:8080/",
          "height": 252
        },
        "id": "CDjgAXcs8vTj",
        "outputId": "9433e03f-687d-4fc8-92b6-96b7a6a5a2ae"
      },
      "execution_count": null,
      "outputs": [
        {
          "output_type": "stream",
          "name": "stdout",
          "text": [
            "reel price : 34\n",
            "coupon code4\n",
            "34.0\n"
          ]
        },
        {
          "output_type": "error",
          "ename": "TypeError",
          "evalue": "ignored",
          "traceback": [
            "\u001b[0;31m---------------------------------------------------------------------------\u001b[0m",
            "\u001b[0;31mTypeError\u001b[0m                                 Traceback (most recent call last)",
            "\u001b[0;32m<ipython-input-29-d26373f588b1>\u001b[0m in \u001b[0;36m<cell line: 5>\u001b[0;34m()\u001b[0m\n\u001b[1;32m      6\u001b[0m   \u001b[0mprint\u001b[0m  \u001b[0;34m(\u001b[0m\u001b[0mreel_price\u001b[0m \u001b[0;34m-\u001b[0m \u001b[0;36m10.0\u001b[0m\u001b[0;34m)\u001b[0m\u001b[0;34m\u001b[0m\u001b[0;34m\u001b[0m\u001b[0m\n\u001b[1;32m      7\u001b[0m \u001b[0;32melse\u001b[0m\u001b[0;34m:\u001b[0m\u001b[0;34m\u001b[0m\u001b[0;34m\u001b[0m\u001b[0m\n\u001b[0;32m----> 8\u001b[0;31m  \u001b[0mprint\u001b[0m\u001b[0;34m(\u001b[0m\u001b[0;34m\"no discount : \"\u001b[0m \u001b[0;34m+\u001b[0m \u001b[0mprint\u001b[0m\u001b[0;34m(\u001b[0m \u001b[0;34m+\u001b[0m \u001b[0mreel_price\u001b[0m\u001b[0;34m)\u001b[0m\u001b[0;34m)\u001b[0m\u001b[0;34m\u001b[0m\u001b[0;34m\u001b[0m\u001b[0m\n\u001b[0m",
            "\u001b[0;31mTypeError\u001b[0m: can only concatenate str (not \"NoneType\") to str"
          ]
        }
      ]
    },
    {
      "cell_type": "code",
      "source": [
        "# 1) Print the square of each number in the list [1, 2, 3, 4, 5].\n",
        "\n",
        "# 2) Print all numbers from 0 to 10 using a while loop.\n",
        "\n",
        "# 3) Count down from 10 to 1 and then print \"Blast off!\"\n",
        "\n",
        "# 4) Print all even numbers from the list [1, 2, 3, 4, 5, 6, 7, 8, 9, 10] in one line using a for loop."
      ],
      "metadata": {
        "id": "VBe6JNdi-ykM"
      },
      "execution_count": null,
      "outputs": []
    },
    {
      "cell_type": "code",
      "source": [
        "list =[1, 2, 3, 4, 5]\n",
        "for i in list :\n",
        "  print(i**2)"
      ],
      "metadata": {
        "colab": {
          "base_uri": "https://localhost:8080/"
        },
        "id": "FSnVAzP-B6fa",
        "outputId": "66da6453-032a-431e-9b6a-c3d569f6b042"
      },
      "execution_count": null,
      "outputs": [
        {
          "output_type": "stream",
          "name": "stdout",
          "text": [
            "1\n",
            "4\n",
            "9\n",
            "16\n",
            "25\n"
          ]
        }
      ]
    },
    {
      "cell_type": "code",
      "source": [
        "# 2) Print all numbers from 0 to 10 using a while loop.\n",
        "\n",
        "i=0\n",
        "while i<=10:\n",
        "  print(i)\n",
        "  i+=1"
      ],
      "metadata": {
        "colab": {
          "base_uri": "https://localhost:8080/"
        },
        "id": "O3hxX4LpCOMF",
        "outputId": "8f0b30c0-382e-495b-dd0c-46a1f40f34a8"
      },
      "execution_count": null,
      "outputs": [
        {
          "output_type": "stream",
          "name": "stdout",
          "text": [
            "0\n",
            "1\n",
            "2\n",
            "3\n",
            "4\n",
            "5\n",
            "6\n",
            "7\n",
            "8\n",
            "9\n",
            "10\n"
          ]
        }
      ]
    },
    {
      "cell_type": "code",
      "source": [
        "# 3) Count down from 10 to 1 and then print \"Blast off!\"\n",
        "i=10\n",
        "while i>=1:\n",
        "  print(i)\n",
        "  i-=1\n",
        "print(\"Blast off!\")"
      ],
      "metadata": {
        "colab": {
          "base_uri": "https://localhost:8080/"
        },
        "id": "rrY0RjGQDI0t",
        "outputId": "18eca2b3-c1b1-459f-aac5-517c3436161e"
      },
      "execution_count": null,
      "outputs": [
        {
          "output_type": "stream",
          "name": "stdout",
          "text": [
            "10\n",
            "9\n",
            "8\n",
            "7\n",
            "6\n",
            "5\n",
            "4\n",
            "3\n",
            "2\n",
            "1\n",
            "Blast off!\n"
          ]
        }
      ]
    },
    {
      "cell_type": "code",
      "source": [
        "# 4) Print all even numbers from the list [1, 2, 3, 4, 5, 6, 7, 8, 9, 10] in one line using a for loop.\n",
        "listw = [1, 2, 3, 4, 5, 6, 7, 8, 9, 10]\n",
        "for i in listw:\n",
        "  if i % 2 == 0:\n",
        "    print(i, end=\" \")"
      ],
      "metadata": {
        "colab": {
          "base_uri": "https://localhost:8080/"
        },
        "id": "X4hSyWtWDl5R",
        "outputId": "48deb801-f412-4f90-8113-204bbf7a30f5"
      },
      "execution_count": null,
      "outputs": [
        {
          "output_type": "stream",
          "name": "stdout",
          "text": [
            "2 4 6 8 10 "
          ]
        }
      ]
    },
    {
      "cell_type": "code",
      "source": [
        "#Task 1: Write a program that takes two numbers as inputs from the user and prints their sum.\n",
        "\n",
        "#Task 2: Write a program that takes an integer input from the user. Use a for loop to print all numbers from that integer down to 0.\n",
        "\n",
        "#Task 3: Write a program that takes an integer input from the user. Use a while loop to keep doubling the number until it is greater than 1000, then print the result.\n",
        "\n",
        "#Task 4: Write a function that takes a number as input and returns the square of the number. Use it in a program that takes an input from the user and prints the square.\n",
        "\n",
        "#Task 5: Write a program that takes a number as input from the user. If the number is greater than 10, print \"Big number\". If the number is less than or equal to 10, prin####t \"Small number\".\n",
        "\n",
        "#Task 6: Write a function that takes two numbers as inputs and returns their product. Use this function in a program that takes two inputs from the user and prints the product.\n",
        "\n",
        "#Task 7: Write a program that uses a while loop to take a number as input from the user, subtract 5, and print the result. Continue this until the result is less than 0.\n",
        "\n",
        "#Task 8: Write a program that uses a for loop to take an integer input from the user and print the factorial of that number.\n",
        "\n",
        "#Task 9: Write a program that takes a number as input from the user. If the number is positive, print \"Positive\". If the number is negative, print \"Negative\". If the number is zero, print \"Zero\".\n",
        "\n",
        "#Task 10: Write a lambda function that takes two numbers as inputs and returns their division as a floating-point number. Use this function in a program that takes two inputs from the user and prints the division"
      ],
      "metadata": {
        "id": "U48RDQNiD9Ed"
      },
      "execution_count": null,
      "outputs": []
    },
    {
      "cell_type": "code",
      "source": [
        "#Task 1: Write a program that takes two numbers as inputs from the user and prints their sum.\n",
        "num1=int(input(\"num 1 : \"))\n",
        "num2=int(input(\"num 2 : \"))\n",
        "sum=(num1+num2)\n",
        "print(sum)"
      ],
      "metadata": {
        "colab": {
          "base_uri": "https://localhost:8080/"
        },
        "id": "WSdyx1CKFtyB",
        "outputId": "149cafcc-b9f8-40f7-85f4-b9dcda32024e"
      },
      "execution_count": null,
      "outputs": [
        {
          "output_type": "stream",
          "name": "stdout",
          "text": [
            "num 1 : 4\n",
            "num 2 : 5\n",
            "9\n"
          ]
        }
      ]
    },
    {
      "cell_type": "code",
      "source": [
        " #Task 2: Write a program that takes an integer input from the user. Use a for loop to print all numbers from that integer down to 0.\n",
        "i=int(input())\n",
        "while i>=0:\n",
        "  print(i)\n",
        "  i-=1"
      ],
      "metadata": {
        "colab": {
          "base_uri": "https://localhost:8080/"
        },
        "id": "Dp-u53x0G6Hc",
        "outputId": "186619a6-c6b5-4331-d10d-66673abe3d57"
      },
      "execution_count": null,
      "outputs": [
        {
          "output_type": "stream",
          "name": "stdout",
          "text": [
            "5\n",
            "5\n",
            "4\n",
            "3\n",
            "2\n",
            "1\n",
            "0\n"
          ]
        }
      ]
    },
    {
      "cell_type": "code",
      "source": [
        "ir=input()\n",
        "for i in ir :\n",
        "  i-=1\n",
        "  print(i)\n",
        "\n"
      ],
      "metadata": {
        "colab": {
          "base_uri": "https://localhost:8080/",
          "height": 252
        },
        "id": "r9zTEZBxIgap",
        "outputId": "404be7c0-84e3-45f1-ae2d-274752f2ddcd"
      },
      "execution_count": null,
      "outputs": [
        {
          "name": "stdout",
          "output_type": "stream",
          "text": [
            "4\n"
          ]
        },
        {
          "output_type": "error",
          "ename": "TypeError",
          "evalue": "ignored",
          "traceback": [
            "\u001b[0;31m---------------------------------------------------------------------------\u001b[0m",
            "\u001b[0;31mTypeError\u001b[0m                                 Traceback (most recent call last)",
            "\u001b[0;32m<ipython-input-76-e59f6c139697>\u001b[0m in \u001b[0;36m<cell line: 2>\u001b[0;34m()\u001b[0m\n\u001b[1;32m      1\u001b[0m \u001b[0mir\u001b[0m\u001b[0;34m=\u001b[0m\u001b[0minput\u001b[0m\u001b[0;34m(\u001b[0m\u001b[0;34m)\u001b[0m\u001b[0;34m\u001b[0m\u001b[0;34m\u001b[0m\u001b[0m\n\u001b[1;32m      2\u001b[0m \u001b[0;32mfor\u001b[0m \u001b[0mi\u001b[0m \u001b[0;32min\u001b[0m \u001b[0mir\u001b[0m \u001b[0;34m:\u001b[0m\u001b[0;34m\u001b[0m\u001b[0;34m\u001b[0m\u001b[0m\n\u001b[0;32m----> 3\u001b[0;31m   \u001b[0mi\u001b[0m\u001b[0;34m-=\u001b[0m\u001b[0;36m1\u001b[0m\u001b[0;34m\u001b[0m\u001b[0;34m\u001b[0m\u001b[0m\n\u001b[0m\u001b[1;32m      4\u001b[0m   \u001b[0mprint\u001b[0m\u001b[0;34m(\u001b[0m\u001b[0mi\u001b[0m\u001b[0;34m)\u001b[0m\u001b[0;34m\u001b[0m\u001b[0;34m\u001b[0m\u001b[0m\n\u001b[1;32m      5\u001b[0m \u001b[0;34m\u001b[0m\u001b[0m\n",
            "\u001b[0;31mTypeError\u001b[0m: unsupported operand type(s) for -=: 'str' and 'int'"
          ]
        }
      ]
    },
    {
      "cell_type": "code",
      "source": [
        "#Task 3: Write a program that takes an integer input from the user. Use a while loop to keep doubling the number until it is greater than 1000, then print the result.\n",
        "ir=int(input())\n",
        "while ir<=1000:\n",
        "  ir*=ir\n",
        "  print (ir)\n"
      ],
      "metadata": {
        "colab": {
          "base_uri": "https://localhost:8080/"
        },
        "id": "Z1-J_XbZIM_Y",
        "outputId": "ee5eff88-df8a-4562-a42f-7cc30e3e7c91"
      },
      "execution_count": null,
      "outputs": [
        {
          "output_type": "stream",
          "name": "stdout",
          "text": [
            "5\n",
            "25\n",
            "625\n",
            "390625\n"
          ]
        }
      ]
    },
    {
      "cell_type": "code",
      "source": [
        "i=int(input())\n",
        "#r=i*2\n",
        "  return i*2\n"
      ],
      "metadata": {
        "id": "icptPk_BVDao"
      },
      "execution_count": null,
      "outputs": []
    },
    {
      "cell_type": "code",
      "source": [
        "#Task 4: Write a function that takes a number as input and returns the square of the number. Use it in a program that takes an input from the user and prints the square.\n",
        "def hh(i):\n",
        "  return i**2\n",
        "hh(int(input()))\n"
      ],
      "metadata": {
        "id": "LWn0ZoQ7VEHF",
        "colab": {
          "base_uri": "https://localhost:8080/"
        },
        "outputId": "46a080ab-cac3-4750-e142-7d7757dc533e"
      },
      "execution_count": null,
      "outputs": [
        {
          "name": "stdout",
          "output_type": "stream",
          "text": [
            "5\n"
          ]
        },
        {
          "output_type": "execute_result",
          "data": {
            "text/plain": [
              "25"
            ]
          },
          "metadata": {},
          "execution_count": 87
        }
      ]
    },
    {
      "cell_type": "code",
      "source": [
        "#Task 5: Write a program that takes a number as input from the user. If the number is greater than 10, print \"Big number\". If the number is less than or equal to 10, prin####t \"Small number\".\n",
        "i=int (input())\n",
        "if (i>10):\n",
        "  print(\"Big number\")\n",
        "elif(i<=10):\n",
        "  print(\"small number\")\n"
      ],
      "metadata": {
        "colab": {
          "base_uri": "https://localhost:8080/"
        },
        "id": "_2JlKG48ZZ50",
        "outputId": "7357fd88-00e4-49f8-d76b-81a709c44773"
      },
      "execution_count": null,
      "outputs": [
        {
          "output_type": "stream",
          "name": "stdout",
          "text": [
            "4\n",
            "small number\n"
          ]
        }
      ]
    },
    {
      "cell_type": "code",
      "source": [
        "#Task 6: Write a function that takes two numbers as inputs and returns their product. Use this function in a program that takes two inputs from the user and prints the product.\n",
        "\n",
        "def two(a,b):\n",
        "\n",
        "  return a*b\n",
        "\n",
        "a = float(input(\"num1 : \"))\n",
        "b = float(input(\"num2 : \"))\n",
        "\n",
        "pet = two(a,b)\n",
        "\n",
        "print (\"pet\" , pet)\n",
        "\n"
      ],
      "metadata": {
        "id": "fWKupAqdamsX",
        "colab": {
          "base_uri": "https://localhost:8080/"
        },
        "outputId": "ac46dc78-1e21-4b76-f641-bb1932780a1a"
      },
      "execution_count": null,
      "outputs": [
        {
          "output_type": "stream",
          "name": "stdout",
          "text": [
            "num1 : 2\n",
            "num2 : 4\n",
            "pet 8.0\n"
          ]
        }
      ]
    },
    {
      "cell_type": "code",
      "source": [
        "\n",
        "#Task 7: Write a program that uses a while loop to take a number as input from the user, subtract 5, and print the result. Continue this until the result is less than 0.\n",
        "\n",
        "user = int (input(\"user number : \"))\n",
        "while user > 0:\n",
        "  print (user)\n",
        "  user= user -5\n",
        "\n",
        "\n"
      ],
      "metadata": {
        "colab": {
          "base_uri": "https://localhost:8080/"
        },
        "id": "V2YzCsPpbTrv",
        "outputId": "c566022e-5abb-4ec6-ae5f-21a2c9aa7ef9"
      },
      "execution_count": null,
      "outputs": [
        {
          "output_type": "stream",
          "name": "stdout",
          "text": [
            "user number : 40\n",
            "40\n",
            "35\n",
            "30\n",
            "25\n",
            "20\n",
            "15\n",
            "10\n",
            "5\n"
          ]
        }
      ]
    },
    {
      "cell_type": "code",
      "source": [
        "#Task 8: Write a program that uses a for loop to take an integer input from the user and print the factorial of that number.\n",
        "user = int (input(\"user number : \"))\n",
        "u=1\n",
        "for i in range(1,user+1):\n",
        "\n",
        "  print (\"e\",i)\n",
        "\n",
        "  u=u*(i)\n",
        "print(u)\n",
        "\n",
        "\n",
        "\n"
      ],
      "metadata": {
        "colab": {
          "base_uri": "https://localhost:8080/"
        },
        "id": "JRKjc1BSmbDQ",
        "outputId": "f3e1d315-796a-4ce9-deae-90b320511d4e"
      },
      "execution_count": null,
      "outputs": [
        {
          "output_type": "stream",
          "name": "stdout",
          "text": [
            "user number : 5\n",
            "e 1\n",
            "e 2\n",
            "e 3\n",
            "e 4\n",
            "e 5\n",
            "120\n"
          ]
        }
      ]
    },
    {
      "cell_type": "code",
      "source": [
        "#Task 9: Write a program that takes a number as input from the user. If the number is positive, print \"Positive\". If the number is negative, print \"Negative\". If the number is zero, print \"Zero\".\n",
        "user=int(input(\"Enter number : \"))\n",
        "if user>0:\n",
        "  print(\"+ve\")\n",
        "elif user<0:\n",
        "  print(\"-ve\")\n",
        "else:\n",
        "  print('the number is 0|')\n",
        "\n"
      ],
      "metadata": {
        "colab": {
          "base_uri": "https://localhost:8080/"
        },
        "id": "QXHp4577oR86",
        "outputId": "751b831d-4290-43f7-985c-2d5ddf53f93f"
      },
      "execution_count": null,
      "outputs": [
        {
          "output_type": "stream",
          "name": "stdout",
          "text": [
            "Enter number : 23\n",
            "+ve\n"
          ]
        }
      ]
    },
    {
      "cell_type": "code",
      "source": [
        "#Task 10: Write a lambda function that takes two numbers as inputs and returns their division as a floating-point number. Use this function in a program that takes two inputs from the user and prints the division\n",
        "def num(a,b):\n",
        "\n",
        "\n",
        "\n",
        "  return a/b\n",
        "\n",
        "\n"
      ],
      "metadata": {
        "id": "uOjVzXR1x3V6"
      },
      "execution_count": null,
      "outputs": []
    },
    {
      "cell_type": "code",
      "source": [
        "num(2,3)\n"
      ],
      "metadata": {
        "colab": {
          "base_uri": "https://localhost:8080/"
        },
        "id": "qZnI2Kew3fhm",
        "outputId": "202d4649-728a-41ae-e7fc-063154eabaa3"
      },
      "execution_count": null,
      "outputs": [
        {
          "output_type": "execute_result",
          "data": {
            "text/plain": [
              "0.6666666666666666"
            ]
          },
          "metadata": {},
          "execution_count": 82
        }
      ]
    },
    {
      "cell_type": "code",
      "source": [
        "num(6,2\n",
        "    )"
      ],
      "metadata": {
        "colab": {
          "base_uri": "https://localhost:8080/"
        },
        "id": "bSXL2qxN5z-b",
        "outputId": "e590234f-2a25-41fd-ccf8-721d6e4f42e2"
      },
      "execution_count": null,
      "outputs": [
        {
          "output_type": "execute_result",
          "data": {
            "text/plain": [
              "3.0"
            ]
          },
          "metadata": {},
          "execution_count": 83
        }
      ]
    },
    {
      "cell_type": "code",
      "source": [],
      "metadata": {
        "id": "aekpyjOT_ZKm"
      },
      "execution_count": null,
      "outputs": []
    }
  ]
}